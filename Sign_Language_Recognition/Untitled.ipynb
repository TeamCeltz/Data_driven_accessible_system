{
 "cells": [
  {
   "cell_type": "code",
   "execution_count": null,
   "id": "advanced-bunny",
   "metadata": {},
   "outputs": [],
   "source": [
    "import cv2\n",
    "import numpy as np\n",
    "# Loading  Yolo weights\n",
    "net = cv2.dnn.readNet(\"./Yolo/yolov3ASL.weights\", \"./Yolo/yolov3ASL.cfg\")\n",
    "classes = list()\n",
    "f = open(\"./Yolo/yolov3ASL.names\", \"r\")  # read .names file\n",
    "for line in f.readlines():  # loop each line in file\n",
    "    classes.append(line.strip())\n",
    "layer_names = net.getLayerNames()  # get layes names\n",
    "layer = list()  # init layes list\n",
    "for i in net.getUnconnectedOutLayers():\n",
    "    layer.append(layer_names[i[0] - 1])\n",
    "colors = np.random.uniform(0, 255, size=(len(classes), 3))\n",
    "\n",
    "# provide video path in string or 0== internal webcam 2== external webcam\n",
    "cap = cv2.VideoCapture(0)\n",
    "if (cap.isOpened() == False):\n",
    "    print(\"Error opening video stream or file\")\n",
    "\n",
    "\n",
    "while(cap.isOpened()):\n",
    "    # get video Frame by Frame\n",
    "    ret, frame = cap.read()\n",
    "    if ret == True:\n",
    "\n",
    "        img = frame  # set img to frame.\n",
    "        height, width, _ = img.shape\n",
    "        blobObject = cv2.dnn.blobFromImage(\n",
    "            img, 0.00392, (416, 416), (0, 0, 0), True, crop=False)\n",
    "        net.setInput(blobObject)\n",
    "        outputs = net.forward(layer)  # get next layer\n",
    "        class_ids = list()\n",
    "        confidences = list()\n",
    "        boxes = list()\n",
    "        for out in outputs:\n",
    "            for detection in out:\n",
    "                scores = detection[5:]\n",
    "                class_id = np.argmax(scores)\n",
    "                confidence = scores[class_id]\n",
    "                if confidence > 0.3:  # tresh >0.5\n",
    "\n",
    "                    center_x = int(detection[0] * width)\n",
    "                    center_y = int(detection[1] * height)\n",
    "                    w = int(detection[2] * width)\n",
    "                    h = int(detection[3] * height)\n",
    "                    # get points for rectangle\n",
    "                    x = int(center_x - w / 2)\n",
    "                    y = int(center_y - h / 2)\n",
    "                    boxes.append([x, y, w, h])\n",
    "                    confidences.append(float(confidence))\n",
    "                    class_ids.append(class_id)\n",
    "        # number of dectected objects in frame\n",
    "        dec = cv2.dnn.NMSBoxes(boxes, confidences, 0.5, 0.4)\n",
    "\n",
    "        for i in range(len(boxes)):\n",
    "            if i in dec:\n",
    "                x, y, w, h = boxes[i]\n",
    "                label = str(classes[class_ids[i]])  # get label\n",
    "                # each classs has specific color defined above\n",
    "                color = colors[i]\n",
    "                cv2.rectangle(img, (x, y), (x + w, y + h),\n",
    "                              color, 2)  # create rectangle\n",
    "                cv2.putText(img, label, (10, 50), cv2.FONT_ITALIC, 2, color, 3)\n",
    "        cv2.imshow(\"Image\", img)\n",
    "        if cv2.waitKey(20) & 0xFF == ord('q'):\n",
    "            break\n",
    "    else:\n",
    "        break\n",
    "\n",
    "\n",
    "cap.release()\n",
    "cv2.destroyAllWindows()\n"
   ]
  },
  {
   "cell_type": "code",
   "execution_count": null,
   "id": "visible-delay",
   "metadata": {},
   "outputs": [],
   "source": [
    "exit"
   ]
  },
  {
   "cell_type": "code",
   "execution_count": 2,
   "id": "exciting-cosmetic",
   "metadata": {},
   "outputs": [],
   "source": [
    "exit\n"
   ]
  },
  {
   "cell_type": "code",
   "execution_count": null,
   "id": "marine-romance",
   "metadata": {},
   "outputs": [],
   "source": []
  }
 ],
 "metadata": {
  "kernelspec": {
   "display_name": "Python 3",
   "language": "python",
   "name": "python3"
  },
  "language_info": {
   "codemirror_mode": {
    "name": "ipython",
    "version": 3
   },
   "file_extension": ".py",
   "mimetype": "text/x-python",
   "name": "python",
   "nbconvert_exporter": "python",
   "pygments_lexer": "ipython3",
   "version": "3.8.8"
  }
 },
 "nbformat": 4,
 "nbformat_minor": 5
}
